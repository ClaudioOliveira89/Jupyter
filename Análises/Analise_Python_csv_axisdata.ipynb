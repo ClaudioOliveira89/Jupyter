{
 "cells": [
  {
   "cell_type": "code",
   "execution_count": 2,
   "id": "aa03eaab",
   "metadata": {},
   "outputs": [],
   "source": [
    "import matplotlib.pyplot as plt"
   ]
  },
  {
   "cell_type": "code",
   "execution_count": 5,
   "id": "4e0e8c08",
   "metadata": {},
   "outputs": [],
   "source": [
    "import pandas as pd"
   ]
  },
  {
   "cell_type": "code",
   "execution_count": 7,
   "id": "cf67a6a6",
   "metadata": {},
   "outputs": [],
   "source": [
    "df = pd.read_csv(\"axisdata.csv\")"
   ]
  },
  {
   "cell_type": "code",
   "execution_count": 8,
   "id": "b20cb0b8",
   "metadata": {},
   "outputs": [
    {
     "data": {
      "text/html": [
       "<div>\n",
       "<style scoped>\n",
       "    .dataframe tbody tr th:only-of-type {\n",
       "        vertical-align: middle;\n",
       "    }\n",
       "\n",
       "    .dataframe tbody tr th {\n",
       "        vertical-align: top;\n",
       "    }\n",
       "\n",
       "    .dataframe thead th {\n",
       "        text-align: right;\n",
       "    }\n",
       "</style>\n",
       "<table border=\"1\" class=\"dataframe\">\n",
       "  <thead>\n",
       "    <tr style=\"text-align: right;\">\n",
       "      <th></th>\n",
       "      <th>Fname</th>\n",
       "      <th>Lname</th>\n",
       "      <th>Gender</th>\n",
       "      <th>Hours Worked</th>\n",
       "      <th>SalesTraining</th>\n",
       "      <th>Years Experience</th>\n",
       "      <th>Cars Sold</th>\n",
       "    </tr>\n",
       "  </thead>\n",
       "  <tbody>\n",
       "    <tr>\n",
       "      <th>0</th>\n",
       "      <td>Jada</td>\n",
       "      <td>Walters</td>\n",
       "      <td>F</td>\n",
       "      <td>39</td>\n",
       "      <td>N</td>\n",
       "      <td>3</td>\n",
       "      <td>2</td>\n",
       "    </tr>\n",
       "    <tr>\n",
       "      <th>1</th>\n",
       "      <td>Nicole</td>\n",
       "      <td>Henderson</td>\n",
       "      <td>F</td>\n",
       "      <td>46</td>\n",
       "      <td>N</td>\n",
       "      <td>3</td>\n",
       "      <td>6</td>\n",
       "    </tr>\n",
       "    <tr>\n",
       "      <th>2</th>\n",
       "      <td>Tanya</td>\n",
       "      <td>Moore</td>\n",
       "      <td>F</td>\n",
       "      <td>42</td>\n",
       "      <td>Y</td>\n",
       "      <td>4</td>\n",
       "      <td>6</td>\n",
       "    </tr>\n",
       "    <tr>\n",
       "      <th>3</th>\n",
       "      <td>Ronelle</td>\n",
       "      <td>Jackson</td>\n",
       "      <td>F</td>\n",
       "      <td>38</td>\n",
       "      <td>Y</td>\n",
       "      <td>5</td>\n",
       "      <td>3</td>\n",
       "    </tr>\n",
       "    <tr>\n",
       "      <th>4</th>\n",
       "      <td>Brad</td>\n",
       "      <td>Sears</td>\n",
       "      <td>M</td>\n",
       "      <td>33</td>\n",
       "      <td>N</td>\n",
       "      <td>4</td>\n",
       "      <td>2</td>\n",
       "    </tr>\n",
       "    <tr>\n",
       "      <th>...</th>\n",
       "      <td>...</td>\n",
       "      <td>...</td>\n",
       "      <td>...</td>\n",
       "      <td>...</td>\n",
       "      <td>...</td>\n",
       "      <td>...</td>\n",
       "      <td>...</td>\n",
       "    </tr>\n",
       "    <tr>\n",
       "      <th>994</th>\n",
       "      <td>Victor</td>\n",
       "      <td>Kane</td>\n",
       "      <td>M</td>\n",
       "      <td>22</td>\n",
       "      <td>Y</td>\n",
       "      <td>5</td>\n",
       "      <td>4</td>\n",
       "    </tr>\n",
       "    <tr>\n",
       "      <th>995</th>\n",
       "      <td>Charles</td>\n",
       "      <td>Turner</td>\n",
       "      <td>M</td>\n",
       "      <td>45</td>\n",
       "      <td>N</td>\n",
       "      <td>1</td>\n",
       "      <td>4</td>\n",
       "    </tr>\n",
       "    <tr>\n",
       "      <th>996</th>\n",
       "      <td>August</td>\n",
       "      <td>Franklin</td>\n",
       "      <td>F</td>\n",
       "      <td>34</td>\n",
       "      <td>Y</td>\n",
       "      <td>4</td>\n",
       "      <td>3</td>\n",
       "    </tr>\n",
       "    <tr>\n",
       "      <th>997</th>\n",
       "      <td>Victoria</td>\n",
       "      <td>Rogers</td>\n",
       "      <td>F</td>\n",
       "      <td>29</td>\n",
       "      <td>N</td>\n",
       "      <td>5</td>\n",
       "      <td>1</td>\n",
       "    </tr>\n",
       "    <tr>\n",
       "      <th>998</th>\n",
       "      <td>Mike</td>\n",
       "      <td>Gerardo</td>\n",
       "      <td>M</td>\n",
       "      <td>20</td>\n",
       "      <td>N</td>\n",
       "      <td>3</td>\n",
       "      <td>3</td>\n",
       "    </tr>\n",
       "  </tbody>\n",
       "</table>\n",
       "<p>999 rows × 7 columns</p>\n",
       "</div>"
      ],
      "text/plain": [
       "        Fname      Lname Gender  Hours Worked SalesTraining  Years Experience  \\\n",
       "0        Jada   Walters       F            39             N                 3   \n",
       "1      Nicole  Henderson      F            46             N                 3   \n",
       "2       Tanya      Moore      F            42             Y                 4   \n",
       "3     Ronelle    Jackson      F            38             Y                 5   \n",
       "4        Brad      Sears      M            33             N                 4   \n",
       "..        ...        ...    ...           ...           ...               ...   \n",
       "994    Victor       Kane      M            22             Y                 5   \n",
       "995   Charles     Turner      M            45             N                 1   \n",
       "996    August   Franklin      F            34             Y                 4   \n",
       "997  Victoria     Rogers      F            29             N                 5   \n",
       "998      Mike    Gerardo      M            20             N                 3   \n",
       "\n",
       "     Cars Sold  \n",
       "0            2  \n",
       "1            6  \n",
       "2            6  \n",
       "3            3  \n",
       "4            2  \n",
       "..         ...  \n",
       "994          4  \n",
       "995          4  \n",
       "996          3  \n",
       "997          1  \n",
       "998          3  \n",
       "\n",
       "[999 rows x 7 columns]"
      ]
     },
     "execution_count": 8,
     "metadata": {},
     "output_type": "execute_result"
    }
   ],
   "source": [
    "df"
   ]
  },
  {
   "cell_type": "code",
   "execution_count": 9,
   "id": "46c6e8d4",
   "metadata": {},
   "outputs": [],
   "source": [
    "media = df[\"Cars Sold\"].mean()"
   ]
  },
  {
   "cell_type": "code",
   "execution_count": 10,
   "id": "dfd6c8c8",
   "metadata": {},
   "outputs": [
    {
     "data": {
      "text/plain": [
       "3.9229229229229228"
      ]
     },
     "execution_count": 10,
     "metadata": {},
     "output_type": "execute_result"
    }
   ],
   "source": [
    "media"
   ]
  },
  {
   "cell_type": "code",
   "execution_count": 11,
   "id": "117d264a",
   "metadata": {},
   "outputs": [],
   "source": [
    "nome = []"
   ]
  },
  {
   "cell_type": "code",
   "execution_count": 12,
   "id": "86c5399e",
   "metadata": {},
   "outputs": [],
   "source": [
    "maximo = df[\"Cars Sold\"].max()"
   ]
  },
  {
   "cell_type": "code",
   "execution_count": 13,
   "id": "c4766608",
   "metadata": {},
   "outputs": [
    {
     "data": {
      "text/plain": [
       "7"
      ]
     },
     "execution_count": 13,
     "metadata": {},
     "output_type": "execute_result"
    }
   ],
   "source": [
    "maximo"
   ]
  },
  {
   "cell_type": "code",
   "execution_count": 15,
   "id": "3fd6ea4d",
   "metadata": {},
   "outputs": [],
   "source": [
    "for i in range(len(df)):\n",
    "    if (df[\"Cars Sold\"][i] == maximo):\n",
    "        nome.append(df[\"Fname\"][i])"
   ]
  },
  {
   "cell_type": "raw",
   "id": "e8ead414",
   "metadata": {},
   "source": [
    "nome.sort()"
   ]
  },
  {
   "cell_type": "code",
   "execution_count": 16,
   "id": "2e319152",
   "metadata": {},
   "outputs": [
    {
     "name": "stdout",
     "output_type": "stream",
     "text": [
      "['Tom', 'Sam', 'Tom', 'John', 'Peter', 'Walter', 'Brad', 'Charles', 'Paula', 'Victoria', 'Sam', 'Sam', 'Sam', 'Brad', 'Onika', 'Ronelle', 'Sam', 'August', 'Brad', 'Frank', 'Charles', 'Lisa', 'Carla', 'Tom', 'Charles']\n"
     ]
    }
   ],
   "source": [
    "print(nome)"
   ]
  },
  {
   "cell_type": "code",
   "execution_count": 17,
   "id": "60bcfaf6",
   "metadata": {},
   "outputs": [],
   "source": [
    "nomes = ['Tom', 'Sam', 'Tom', 'John', 'Peter', 'Walter', 'Brad', 'Charles', 'Paula', 'Victoria', 'Sam', 'Sam', 'Sam', 'Brad', 'Onika', 'Ronelle', 'Sam', 'August', 'Brad', 'Frank', 'Charles', 'Lisa', 'Carla', 'Tom', 'Charles']"
   ]
  },
  {
   "cell_type": "code",
   "execution_count": 18,
   "id": "35b289a1",
   "metadata": {},
   "outputs": [],
   "source": [
    "serie_nomes = pd.Series(nomes)"
   ]
  },
  {
   "cell_type": "code",
   "execution_count": 20,
   "id": "d86c1276",
   "metadata": {},
   "outputs": [],
   "source": [
    "nomes_sem_repeticao = serie_nomes.drop_duplicates()"
   ]
  },
  {
   "cell_type": "code",
   "execution_count": 21,
   "id": "c67bd3aa",
   "metadata": {},
   "outputs": [
    {
     "name": "stdout",
     "output_type": "stream",
     "text": [
      "0          Tom\n",
      "1          Sam\n",
      "3         John\n",
      "4        Peter\n",
      "5       Walter\n",
      "6         Brad\n",
      "7      Charles\n",
      "8        Paula\n",
      "9     Victoria\n",
      "14       Onika\n",
      "15     Ronelle\n",
      "17      August\n",
      "19       Frank\n",
      "21        Lisa\n",
      "22       Carla\n",
      "dtype: object\n"
     ]
    }
   ],
   "source": [
    "print(nomes_sem_repeticao)"
   ]
  },
  {
   "cell_type": "code",
   "execution_count": 22,
   "id": "8a237822",
   "metadata": {},
   "outputs": [],
   "source": [
    "contagem_nomes = serie_nomes.value_counts()"
   ]
  },
  {
   "cell_type": "code",
   "execution_count": 23,
   "id": "5a26e061",
   "metadata": {},
   "outputs": [
    {
     "name": "stdout",
     "output_type": "stream",
     "text": [
      "Sam         5\n",
      "Tom         3\n",
      "Brad        3\n",
      "Charles     3\n",
      "John        1\n",
      "Peter       1\n",
      "Walter      1\n",
      "Paula       1\n",
      "Victoria    1\n",
      "Onika       1\n",
      "Ronelle     1\n",
      "August      1\n",
      "Frank       1\n",
      "Lisa        1\n",
      "Carla       1\n",
      "Name: count, dtype: int64\n"
     ]
    }
   ],
   "source": [
    "print(contagem_nomes)"
   ]
  },
  {
   "cell_type": "code",
   "execution_count": 24,
   "id": "054b00dc",
   "metadata": {},
   "outputs": [],
   "source": [
    "obj = (\"F\", \"M\")"
   ]
  },
  {
   "cell_type": "code",
   "execution_count": 25,
   "id": "7670f4fe",
   "metadata": {},
   "outputs": [],
   "source": [
    "valores = [len(df.loc[df[\"Gender\"]== \"F\"]), len(df.loc[df[\"Gender\"]== \"M\"])]"
   ]
  },
  {
   "cell_type": "code",
   "execution_count": 49,
   "id": "e32d05d1",
   "metadata": {},
   "outputs": [],
   "source": [
    "colors = [\"magenta\", \"blue\"]"
   ]
  },
  {
   "cell_type": "code",
   "execution_count": 52,
   "id": "99631cc0",
   "metadata": {},
   "outputs": [
    {
     "data": {
      "image/png": "[encoded data removed]",
      "text/plain": [
       "<Figure size 640x480 with 1 Axes>"
      ]
     },
     "metadata": {},
     "output_type": "display_data"
    }
   ],
   "source": [
    "plt.pie(valores,labels=obj, colors=colors, autopct=\"%0.2f%%\", startangle=12)\n",
    "plt.legend(obj)\n",
    "plt.axis(\"equal\")\n",
    "plt.show()"
   ]
  }
 ],
 "metadata": {
  "kernelspec": {
   "display_name": "Python 3 (ipykernel)",
   "language": "python",
   "name": "python3"
  },
  "language_info": {
   "codemirror_mode": {
    "name": "ipython",
    "version": 3
   },
   "file_extension": ".py",
   "mimetype": "text/x-python",
   "name": "python",
   "nbconvert_exporter": "python",
   "pygments_lexer": "ipython3",
   "version": "3.11.5"
  }
 },
 "nbformat": 4,
 "nbformat_minor": 5
}
