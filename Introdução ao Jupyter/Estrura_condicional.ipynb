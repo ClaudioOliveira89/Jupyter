{
 "cells": [
  {
   "cell_type": "code",
   "execution_count": 1,
   "id": "e9eac212",
   "metadata": {},
   "outputs": [
    {
     "name": "stdout",
     "output_type": "stream",
     "text": [
      "digite a nota 1 4\n"
     ]
    }
   ],
   "source": [
    "nota1 = float(input(\"digite a nota 1 \"))"
   ]
  },
  {
   "cell_type": "code",
   "execution_count": 2,
   "id": "0b91f3e9",
   "metadata": {},
   "outputs": [
    {
     "name": "stdout",
     "output_type": "stream",
     "text": [
      "digite a nota 2 5\n"
     ]
    }
   ],
   "source": [
    "nota2 = float(input(\"digite a nota 2 \"))"
   ]
  },
  {
   "cell_type": "code",
   "execution_count": 3,
   "id": "2b6ea185",
   "metadata": {},
   "outputs": [
    {
     "name": "stdout",
     "output_type": "stream",
     "text": [
      "digite a nota 3 7\n"
     ]
    }
   ],
   "source": [
    "nota3 = float(input(\"digite a nota 3 \"))"
   ]
  },
  {
   "cell_type": "code",
   "execution_count": 4,
   "id": "2772fcad",
   "metadata": {},
   "outputs": [],
   "source": [
    "media = (nota1+nota2+nota3)/3"
   ]
  },
  {
   "cell_type": "code",
   "execution_count": 5,
   "id": "47f78cb1",
   "metadata": {},
   "outputs": [
    {
     "name": "stdout",
     "output_type": "stream",
     "text": [
      "Exame\n"
     ]
    }
   ],
   "source": [
    "if media >= 6:\n",
    "    print(\"Aprovado\")\n",
    "elif media < 3:\n",
    "    print(\"Reprovado\")\n",
    "else:\n",
    "    print(\"Exame\")"
   ]
  },
  {
   "cell_type": "code",
   "execution_count": 6,
   "id": "261c5c00",
   "metadata": {},
   "outputs": [
    {
     "data": {
      "text/plain": [
       "5.333333333333333"
      ]
     },
     "execution_count": 6,
     "metadata": {},
     "output_type": "execute_result"
    }
   ],
   "source": [
    "media"
   ]
  },
  {
   "cell_type": "code",
   "execution_count": null,
   "id": "c0ffafae",
   "metadata": {},
   "outputs": [],
   "source": []
  }
 ],
 "metadata": {
  "kernelspec": {
   "display_name": "Python 3 (ipykernel)",
   "language": "python",
   "name": "python3"
  },
  "language_info": {
   "codemirror_mode": {
    "name": "ipython",
    "version": 3
   },
   "file_extension": ".py",
   "mimetype": "text/x-python",
   "name": "python",
   "nbconvert_exporter": "python",
   "pygments_lexer": "ipython3",
   "version": "3.11.5"
  }
 },
 "nbformat": 4,
 "nbformat_minor": 5
}
