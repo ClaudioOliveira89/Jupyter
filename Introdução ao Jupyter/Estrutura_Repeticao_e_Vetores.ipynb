{
 "cells": [
  {
   "cell_type": "code",
   "execution_count": 1,
   "id": "888a21dc",
   "metadata": {},
   "outputs": [],
   "source": [
    "i=1"
   ]
  },
  {
   "cell_type": "code",
   "execution_count": 3,
   "id": "891e6dae",
   "metadata": {},
   "outputs": [
    {
     "name": "stdout",
     "output_type": "stream",
     "text": [
      "1  -  1\n",
      "2  -  4\n",
      "3  -  9\n",
      "4  -  16\n",
      "5  -  25\n",
      "6  -  36\n",
      "7  -  49\n",
      "8  -  64\n",
      "9  -  81\n",
      "10  -  100\n"
     ]
    }
   ],
   "source": [
    "while i <=10:\n",
    "    print(i, \" - \", i*i)\n",
    "    i = i + 1"
   ]
  },
  {
   "cell_type": "code",
   "execution_count": 4,
   "id": "da9f8f97",
   "metadata": {},
   "outputs": [
    {
     "data": {
      "text/plain": [
       "11"
      ]
     },
     "execution_count": 4,
     "metadata": {},
     "output_type": "execute_result"
    }
   ],
   "source": [
    "i"
   ]
  },
  {
   "cell_type": "code",
   "execution_count": 5,
   "id": "70706734",
   "metadata": {},
   "outputs": [],
   "source": [
    "x = 10"
   ]
  },
  {
   "cell_type": "code",
   "execution_count": 6,
   "id": "9923e93c",
   "metadata": {},
   "outputs": [],
   "source": [
    "y = 10.5"
   ]
  },
  {
   "cell_type": "code",
   "execution_count": 7,
   "id": "fdfd9f04",
   "metadata": {},
   "outputs": [],
   "source": [
    "nome = \"Alcides\""
   ]
  },
  {
   "cell_type": "code",
   "execution_count": 8,
   "id": "7d472415",
   "metadata": {},
   "outputs": [],
   "source": [
    "frutas = [\"maça\", \"banana\", \"uva\", \"laranja\", \"morango\"]"
   ]
  },
  {
   "cell_type": "code",
   "execution_count": 9,
   "id": "015ec5a6",
   "metadata": {},
   "outputs": [
    {
     "data": {
      "text/plain": [
       "'maça'"
      ]
     },
     "execution_count": 9,
     "metadata": {},
     "output_type": "execute_result"
    }
   ],
   "source": [
    "frutas[0]"
   ]
  },
  {
   "cell_type": "code",
   "execution_count": 10,
   "id": "1e1f0b7d",
   "metadata": {},
   "outputs": [],
   "source": [
    "copia = frutas[:3]"
   ]
  },
  {
   "cell_type": "code",
   "execution_count": 11,
   "id": "af5f55f4",
   "metadata": {},
   "outputs": [
    {
     "data": {
      "text/plain": [
       "['maça', 'banana', 'uva']"
      ]
     },
     "execution_count": 11,
     "metadata": {},
     "output_type": "execute_result"
    }
   ],
   "source": [
    "copia"
   ]
  },
  {
   "cell_type": "code",
   "execution_count": 12,
   "id": "ebe8abc5",
   "metadata": {},
   "outputs": [],
   "source": [
    "frutas.append(\"damasco\")"
   ]
  },
  {
   "cell_type": "code",
   "execution_count": 13,
   "id": "78b14aca",
   "metadata": {},
   "outputs": [
    {
     "data": {
      "text/plain": [
       "['maça', 'banana', 'uva', 'laranja', 'morango', 'damasco']"
      ]
     },
     "execution_count": 13,
     "metadata": {},
     "output_type": "execute_result"
    }
   ],
   "source": [
    "frutas"
   ]
  },
  {
   "cell_type": "code",
   "execution_count": 14,
   "id": "cb9715bd",
   "metadata": {},
   "outputs": [],
   "source": [
    "del frutas[2]"
   ]
  },
  {
   "cell_type": "code",
   "execution_count": 15,
   "id": "ec4378d1",
   "metadata": {},
   "outputs": [
    {
     "data": {
      "text/plain": [
       "['maça', 'banana', 'laranja', 'morango', 'damasco']"
      ]
     },
     "execution_count": 15,
     "metadata": {},
     "output_type": "execute_result"
    }
   ],
   "source": [
    "frutas"
   ]
  },
  {
   "cell_type": "code",
   "execution_count": 16,
   "id": "1a6071ad",
   "metadata": {},
   "outputs": [],
   "source": [
    "nome_idades={\"Alcides\":39, \"Lucas\":18, \"Bruna\":24, \"Leonardo\": 25}"
   ]
  },
  {
   "cell_type": "code",
   "execution_count": 17,
   "id": "af1d5cff",
   "metadata": {},
   "outputs": [
    {
     "name": "stdout",
     "output_type": "stream",
     "text": [
      "39\n"
     ]
    }
   ],
   "source": [
    "print(nome_idades[\"Alcides\"])"
   ]
  },
  {
   "cell_type": "code",
   "execution_count": null,
   "id": "318e4c6f",
   "metadata": {},
   "outputs": [],
   "source": []
  }
 ],
 "metadata": {
  "kernelspec": {
   "display_name": "Python 3 (ipykernel)",
   "language": "python",
   "name": "python3"
  },
  "language_info": {
   "codemirror_mode": {
    "name": "ipython",
    "version": 3
   },
   "file_extension": ".py",
   "mimetype": "text/x-python",
   "name": "python",
   "nbconvert_exporter": "python",
   "pygments_lexer": "ipython3",
   "version": "3.11.5"
  }
 },
 "nbformat": 4,
 "nbformat_minor": 5
}
