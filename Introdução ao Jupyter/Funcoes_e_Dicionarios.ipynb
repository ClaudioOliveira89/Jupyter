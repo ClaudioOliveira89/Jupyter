{
 "cells": [
  {
   "cell_type": "code",
   "execution_count": 1,
   "id": "3392d08a",
   "metadata": {},
   "outputs": [
    {
     "data": {
      "text/plain": [
       "6"
      ]
     },
     "execution_count": 1,
     "metadata": {},
     "output_type": "execute_result"
    }
   ],
   "source": [
    "2 + 4"
   ]
  },
  {
   "cell_type": "code",
   "execution_count": 2,
   "id": "3868661a",
   "metadata": {},
   "outputs": [
    {
     "data": {
      "text/plain": [
       "14"
      ]
     },
     "execution_count": 2,
     "metadata": {},
     "output_type": "execute_result"
    }
   ],
   "source": [
    "5 + 9"
   ]
  },
  {
   "cell_type": "code",
   "execution_count": 3,
   "id": "a2705f93",
   "metadata": {},
   "outputs": [],
   "source": [
    "def soma(a,b):\n",
    "    return a+b"
   ]
  },
  {
   "cell_type": "code",
   "execution_count": 4,
   "id": "d0350b9c",
   "metadata": {},
   "outputs": [
    {
     "data": {
      "text/plain": [
       "60"
      ]
     },
     "execution_count": 4,
     "metadata": {},
     "output_type": "execute_result"
    }
   ],
   "source": [
    "soma(10,50)"
   ]
  },
  {
   "cell_type": "code",
   "execution_count": 5,
   "id": "4e1d0aa6",
   "metadata": {},
   "outputs": [
    {
     "data": {
      "text/plain": [
       "-2"
      ]
     },
     "execution_count": 5,
     "metadata": {},
     "output_type": "execute_result"
    }
   ],
   "source": [
    "soma(4,-6)"
   ]
  },
  {
   "cell_type": "code",
   "execution_count": 6,
   "id": "bfa2e9b6",
   "metadata": {},
   "outputs": [],
   "source": [
    "i = 1"
   ]
  },
  {
   "cell_type": "code",
   "execution_count": 13,
   "id": "12229d87",
   "metadata": {},
   "outputs": [],
   "source": [
    "while i <= 10:\n",
    "    print(soma(i,i))\n",
    "    i+= 1"
   ]
  },
  {
   "cell_type": "code",
   "execution_count": 14,
   "id": "261434e8",
   "metadata": {},
   "outputs": [],
   "source": [
    "dados = {\n",
    "    \"func1\": {\"nome\": \"Fulano1\", \"idade\": 24, \"salario\": 1000.00},\n",
    "    \"func2\": {\"nome\": \"Fulano2\", \"idade\": 25, \"salario\": 2000.00},\n",
    "    \"func3\": {\"nome\": \"Fulano3\", \"idade\": 45, \"salario\": 3000.00},\n",
    "    \"func4\": {\"nome\": \"Fulano4\", \"idade\": 55, \"salario\": 3456.00},\n",
    "    \"func5\": {\"nome\": \"Fulano5\", \"idade\": 66, \"salario\": 34687.00},\n",
    "    \"func6\": {\"nome\": \"Fulano6\", \"idade\": 77, \"salario\": 34123.00},\n",
    "    \"func7\": {\"nome\": \"Fulano7\", \"idade\": 84, \"salario\": 1123.00},\n",
    "    \"func8\": {\"nome\": \"Fulano8\", \"idade\": 34, \"salario\": 5761.00},\n",
    "    \"func9\": {\"nome\": \"Fulano9\", \"idade\": 36, \"salario\": 5672.00},\n",
    "    \"func10\": {\"nome\": \"Fulano10\", \"idade\": 18, \"salario\": 32412.00}\n",
    "}"
   ]
  },
  {
   "cell_type": "code",
   "execution_count": 15,
   "id": "c5baa617",
   "metadata": {},
   "outputs": [
    {
     "data": {
      "text/plain": [
       "{'func1': {'nome': 'Fulano1', 'idade': 24, 'salario': 1000.0},\n",
       " 'func2': {'nome': 'Fulano2', 'idade': 25, 'salario': 2000.0},\n",
       " 'func3': {'nome': 'Fulano3', 'idade': 45, 'salario': 3000.0},\n",
       " 'func4': {'nome': 'Fulano4', 'idade': 55, 'salario': 3456.0},\n",
       " 'func5': {'nome': 'Fulano5', 'idade': 66, 'salario': 34687.0},\n",
       " 'func6': {'nome': 'Fulano6', 'idade': 77, 'salario': 34123.0},\n",
       " 'func7': {'nome': 'Fulano7', 'idade': 84, 'salario': 1123.0},\n",
       " 'func8': {'nome': 'Fulano8', 'idade': 34, 'salario': 5761.0},\n",
       " 'func9': {'nome': 'Fulano9', 'idade': 36, 'salario': 5672.0},\n",
       " 'func10': {'nome': 'Fulano10', 'idade': 18, 'salario': 32412.0}}"
      ]
     },
     "execution_count": 15,
     "metadata": {},
     "output_type": "execute_result"
    }
   ],
   "source": [
    "dados"
   ]
  },
  {
   "cell_type": "code",
   "execution_count": 16,
   "id": "8e856a3e",
   "metadata": {},
   "outputs": [
    {
     "name": "stdout",
     "output_type": "stream",
     "text": [
      "Nome:  Fulano1\n",
      "Nome:  Fulano2\n",
      "Nome:  Fulano3\n",
      "Nome:  Fulano4\n",
      "Nome:  Fulano5\n",
      "Nome:  Fulano6\n",
      "Nome:  Fulano7\n",
      "Nome:  Fulano8\n",
      "Nome:  Fulano9\n",
      "Nome:  Fulano10\n"
     ]
    }
   ],
   "source": [
    "for funcionario in dados:\n",
    "    print(\"Nome: \", dados[funcionario][\"nome\"])"
   ]
  },
  {
   "cell_type": "code",
   "execution_count": 17,
   "id": "3074fd33",
   "metadata": {},
   "outputs": [
    {
     "name": "stdout",
     "output_type": "stream",
     "text": [
      "func1\n",
      "func2\n",
      "func3\n",
      "func4\n",
      "func5\n",
      "func6\n",
      "func7\n",
      "func8\n",
      "func9\n",
      "func10\n"
     ]
    }
   ],
   "source": [
    "for funcionario in dados:\n",
    "    print(funcionario)"
   ]
  },
  {
   "cell_type": "code",
   "execution_count": 18,
   "id": "907c9841",
   "metadata": {},
   "outputs": [
    {
     "name": "stdout",
     "output_type": "stream",
     "text": [
      "idade:  24\n",
      "idade:  25\n",
      "idade:  45\n",
      "idade:  55\n",
      "idade:  66\n",
      "idade:  77\n",
      "idade:  84\n",
      "idade:  34\n",
      "idade:  36\n",
      "idade:  18\n"
     ]
    }
   ],
   "source": [
    "for funcionario in dados:\n",
    "    print(\"idade: \", dados[funcionario][\"idade\"])"
   ]
  },
  {
   "cell_type": "code",
   "execution_count": null,
   "id": "371c649b",
   "metadata": {},
   "outputs": [],
   "source": []
  }
 ],
 "metadata": {
  "kernelspec": {
   "display_name": "Python 3 (ipykernel)",
   "language": "python",
   "name": "python3"
  },
  "language_info": {
   "codemirror_mode": {
    "name": "ipython",
    "version": 3
   },
   "file_extension": ".py",
   "mimetype": "text/x-python",
   "name": "python",
   "nbconvert_exporter": "python",
   "pygments_lexer": "ipython3",
   "version": "3.11.5"
  }
 },
 "nbformat": 4,
 "nbformat_minor": 5
}
