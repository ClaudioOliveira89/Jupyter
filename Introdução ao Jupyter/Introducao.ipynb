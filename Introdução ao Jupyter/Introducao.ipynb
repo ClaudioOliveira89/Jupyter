{
 "cells": [
  {
   "cell_type": "code",
   "execution_count": 1,
   "id": "dc7c8f6f",
   "metadata": {},
   "outputs": [],
   "source": [
    "x = 2*2"
   ]
  },
  {
   "cell_type": "code",
   "execution_count": 2,
   "id": "e7e7fd6b",
   "metadata": {},
   "outputs": [
    {
     "name": "stdout",
     "output_type": "stream",
     "text": [
      "4\n"
     ]
    }
   ],
   "source": [
    "print(x)"
   ]
  },
  {
   "cell_type": "code",
   "execution_count": null,
   "id": "385a8a48",
   "metadata": {},
   "outputs": [],
   "source": []
  }
 ],
 "metadata": {
  "kernelspec": {
   "display_name": "Python 3 (ipykernel)",
   "language": "python",
   "name": "python3"
  },
  "language_info": {
   "codemirror_mode": {
    "name": "ipython",
    "version": 3
   },
   "file_extension": ".py",
   "mimetype": "text/x-python",
   "name": "python",
   "nbconvert_exporter": "python",
   "pygments_lexer": "ipython3",
   "version": "3.11.5"
  }
 },
 "nbformat": 4,
 "nbformat_minor": 5
}
