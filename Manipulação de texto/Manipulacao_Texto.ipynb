{
 "cells": [
  {
   "cell_type": "code",
   "execution_count": 56,
   "id": "788a3651",
   "metadata": {},
   "outputs": [],
   "source": [
    "arquivo1 = open(\"Arquivo_analise_texto_Python.txt\", \"r\", encoding='utf8')"
   ]
  },
  {
   "cell_type": "code",
   "execution_count": 57,
   "id": "18d72e85",
   "metadata": {},
   "outputs": [
    {
     "name": "stdout",
     "output_type": "stream",
     "text": [
      "Gravando outros dados\n"
     ]
    }
   ],
   "source": [
    "print(arquivo1.read())"
   ]
  },
  {
   "cell_type": "code",
   "execution_count": 58,
   "id": "4a49f6a3",
   "metadata": {},
   "outputs": [
    {
     "data": {
      "text/plain": [
       "0"
      ]
     },
     "execution_count": 58,
     "metadata": {},
     "output_type": "execute_result"
    }
   ],
   "source": [
    "arquivo1.seek(0,0)"
   ]
  },
  {
   "cell_type": "code",
   "execution_count": 59,
   "id": "3647a5cc",
   "metadata": {},
   "outputs": [
    {
     "name": "stdout",
     "output_type": "stream",
     "text": [
      "GRAVAN\n"
     ]
    }
   ],
   "source": [
    "print(arquivo1.read(6).upper())"
   ]
  },
  {
   "cell_type": "code",
   "execution_count": 60,
   "id": "85221e6c",
   "metadata": {},
   "outputs": [
    {
     "name": "stdout",
     "output_type": "stream",
     "text": [
      "do outros dados\n"
     ]
    }
   ],
   "source": [
    "print(arquivo1.read())"
   ]
  },
  {
   "cell_type": "code",
   "execution_count": 61,
   "id": "b5ade683",
   "metadata": {},
   "outputs": [
    {
     "data": {
      "text/plain": [
       "0"
      ]
     },
     "execution_count": 61,
     "metadata": {},
     "output_type": "execute_result"
    }
   ],
   "source": [
    "arquivo1.seek(0,0)"
   ]
  },
  {
   "cell_type": "code",
   "execution_count": 62,
   "id": "b272d295",
   "metadata": {},
   "outputs": [
    {
     "name": "stdout",
     "output_type": "stream",
     "text": [
      "Gravando outros dados\n"
     ]
    }
   ],
   "source": [
    "print(arquivo1.read())"
   ]
  },
  {
   "cell_type": "code",
   "execution_count": 63,
   "id": "9ce86ee6",
   "metadata": {},
   "outputs": [],
   "source": [
    "arquivo2 = open(\"Arquivo_analise_texto_Python.txt\", \"w\")"
   ]
  },
  {
   "cell_type": "code",
   "execution_count": 64,
   "id": "3895dc0d",
   "metadata": {},
   "outputs": [
    {
     "data": {
      "text/plain": [
       "21"
      ]
     },
     "execution_count": 64,
     "metadata": {},
     "output_type": "execute_result"
    }
   ],
   "source": [
    "arquivo2.write(\"Gravando outros dados \")"
   ]
  },
  {
   "cell_type": "code",
   "execution_count": 65,
   "id": "c2b42e8e",
   "metadata": {},
   "outputs": [],
   "source": [
    "arquivo2.close()"
   ]
  },
  {
   "cell_type": "code",
   "execution_count": 70,
   "id": "fa61ff89",
   "metadata": {},
   "outputs": [],
   "source": [
    "arquivo3 = open(\"Arquivo_analise_texto_Python.txt\", \"r+\")"
   ]
  },
  {
   "cell_type": "code",
   "execution_count": 71,
   "id": "dfe652ff",
   "metadata": {},
   "outputs": [
    {
     "name": "stdout",
     "output_type": "stream",
     "text": [
      "Gravando outros dados\n"
     ]
    }
   ],
   "source": [
    "print(arquivo3.read())"
   ]
  },
  {
   "cell_type": "code",
   "execution_count": 72,
   "id": "4fc6c053",
   "metadata": {},
   "outputs": [
    {
     "data": {
      "text/plain": [
       "17"
      ]
     },
     "execution_count": 72,
     "metadata": {},
     "output_type": "execute_result"
    }
   ],
   "source": [
    "arquivo3.write(\"Aula sobre Python\")"
   ]
  },
  {
   "cell_type": "code",
   "execution_count": 73,
   "id": "d81ff7a9",
   "metadata": {},
   "outputs": [],
   "source": [
    "arquivo3.close()"
   ]
  },
  {
   "cell_type": "code",
   "execution_count": 74,
   "id": "2b56d746",
   "metadata": {},
   "outputs": [],
   "source": [
    "arquivo3 = open(\"Arquivo_analise_texto_Python.txt\", \"r\")"
   ]
  },
  {
   "cell_type": "code",
   "execution_count": 75,
   "id": "77629527",
   "metadata": {},
   "outputs": [
    {
     "name": "stdout",
     "output_type": "stream",
     "text": [
      "Gravando outros dadosAula sobre Python\n"
     ]
    }
   ],
   "source": [
    "print(arquivo3.read())"
   ]
  }
 ],
 "metadata": {
  "kernelspec": {
   "display_name": "Python 3 (ipykernel)",
   "language": "python",
   "name": "python3"
  },
  "language_info": {
   "codemirror_mode": {
    "name": "ipython",
    "version": 3
   },
   "file_extension": ".py",
   "mimetype": "text/x-python",
   "name": "python",
   "nbconvert_exporter": "python",
   "pygments_lexer": "ipython3",
   "version": "3.11.5"
  }
 },
 "nbformat": 4,
 "nbformat_minor": 5
}
