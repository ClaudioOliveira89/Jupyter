{
 "cells": [
  {
   "cell_type": "code",
   "execution_count": 1,
   "id": "1edae718",
   "metadata": {},
   "outputs": [],
   "source": [
    "class FormaGeometrica():\n",
    "    def __init__(self,initX,initY):\n",
    "        self.x = initX\n",
    "        self.y = initY\n",
    "\n",
    "    def getX(self):\n",
    "        return self.x\n",
    "    \n",
    "    def setX(self, newX):\n",
    "        self.c = newX\n",
    "        \n",
    "    def getY(self):\n",
    "        return self.y\n",
    "    \n",
    "    def setY(self, newY):\n",
    "        self.y = newY"
   ]
  },
  {
   "cell_type": "code",
   "execution_count": 6,
   "id": "778fc8f7",
   "metadata": {},
   "outputs": [],
   "source": [
    "class Circulo(FormaGeometrica):\n",
    "    PI = 3.14\n",
    "    \n",
    "    def __init__(self, initRaio, initX, initY):\n",
    "        super().__init__(initX, initY)\n",
    "        self.raio = initRaio\n",
    "        \n",
    "    def setRaio(self, newRaio):\n",
    "        self.raio = newRaio\n",
    "    \n",
    "    def getRaio(self):\n",
    "        return self.raio\n",
    "    \n",
    "    def calcArea(self):\n",
    "        return Circulo.PI * (self.raio * self.raio)\n",
    "    \n",
    "    def __str__(self):\n",
    "        return \"Circulo de raio: \" + str(self.raio) + \", Área: \" + str(self.calcArea()) + \"\\n\" + \"(X,Y)=(\" + str(self.getX()) + \", \" + str(self.getY()) + \")\"\n"
   ]
  },
  {
   "cell_type": "code",
   "execution_count": 7,
   "id": "e6b195da",
   "metadata": {},
   "outputs": [],
   "source": [
    "class Quadrado(FormaGeometrica):\n",
    "    \n",
    "    def __init__(self, initLado, initX, initY):\n",
    "        super().__init__(initX, initY)\n",
    "        self.lado = initLado\n",
    "        \n",
    "    def setLado(self, newLado):\n",
    "        self.lado = newLado\n",
    "    \n",
    "    def getLado(self):\n",
    "        return self.lado\n",
    "    \n",
    "    def calcArea(self):\n",
    "        return self.lado * self.lado\n",
    "    \n",
    "    def __str__(self):\n",
    "        return \"Quadrado de lado: \" + str(self.lado) + \", Área: \" + str(self.calcArea()) + \"\\n\" + \"(X,Y)=(\" + str(self.getX()) + \", \" + str(self.getY()) + \")\"\n"
   ]
  },
  {
   "cell_type": "code",
   "execution_count": 8,
   "id": "fc33d9fd",
   "metadata": {
    "scrolled": true
   },
   "outputs": [],
   "source": [
    "forma1 = Circulo(100, 30, 20)"
   ]
  },
  {
   "cell_type": "code",
   "execution_count": 9,
   "id": "34dafe6b",
   "metadata": {},
   "outputs": [
    {
     "data": {
      "text/plain": [
       "<__main__.Circulo at 0x2e0af04a410>"
      ]
     },
     "execution_count": 9,
     "metadata": {},
     "output_type": "execute_result"
    }
   ],
   "source": [
    "forma1"
   ]
  },
  {
   "cell_type": "code",
   "execution_count": 10,
   "id": "fa9cfa2e",
   "metadata": {},
   "outputs": [],
   "source": [
    "forma2 = Quadrado(20, 3, 4)"
   ]
  },
  {
   "cell_type": "code",
   "execution_count": 11,
   "id": "31c87bab",
   "metadata": {},
   "outputs": [
    {
     "name": "stdout",
     "output_type": "stream",
     "text": [
      "Quadrado de lado: 20, Área: 400\n",
      "(X,Y)=(3, 4)\n"
     ]
    }
   ],
   "source": [
    "print(forma2)"
   ]
  }
 ],
 "metadata": {
  "kernelspec": {
   "display_name": "Python 3 (ipykernel)",
   "language": "python",
   "name": "python3"
  },
  "language_info": {
   "codemirror_mode": {
    "name": "ipython",
    "version": 3
   },
   "file_extension": ".py",
   "mimetype": "text/x-python",
   "name": "python",
   "nbconvert_exporter": "python",
   "pygments_lexer": "ipython3",
   "version": "3.11.5"
  }
 },
 "nbformat": 4,
 "nbformat_minor": 5
}
