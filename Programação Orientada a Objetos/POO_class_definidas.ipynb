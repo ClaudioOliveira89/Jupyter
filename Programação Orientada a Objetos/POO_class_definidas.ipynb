{
 "cells": [
  {
   "cell_type": "code",
   "execution_count": 3,
   "id": "4cd98649",
   "metadata": {},
   "outputs": [],
   "source": [
    "class Carro():\n",
    "    def __init__(self, initMarca, initModelo, initCor):\n",
    "        self.marca = initMarca\n",
    "        self.modelo = initModelo\n",
    "        self.cor = initCor"
   ]
  },
  {
   "cell_type": "code",
   "execution_count": 4,
   "id": "102edc3e",
   "metadata": {},
   "outputs": [
    {
     "name": "stdout",
     "output_type": "stream",
     "text": [
      "Fiat\n",
      "Toyota\n"
     ]
    }
   ],
   "source": [
    "carro1 = Carro(\"Fiat\", \"UNO\", \"preto\")\n",
    "carro2 = Carro(\"Honda\", \"HR-V\", \"branco\")\n",
    "print(carro1.marca)\n",
    "carro2.marca = \"Toyota\"\n",
    "print(carro2.marca)"
   ]
  },
  {
   "cell_type": "code",
   "execution_count": 9,
   "id": "d232198d",
   "metadata": {},
   "outputs": [],
   "source": [
    "carro3 = Carro(\"Hyundai\", \"Sonata\", \"prata\")"
   ]
  },
  {
   "cell_type": "code",
   "execution_count": 10,
   "id": "b8ee981a",
   "metadata": {},
   "outputs": [
    {
     "data": {
      "text/plain": [
       "<__main__.Carro at 0x18e954b6b10>"
      ]
     },
     "execution_count": 10,
     "metadata": {},
     "output_type": "execute_result"
    }
   ],
   "source": [
    "carro3"
   ]
  },
  {
   "cell_type": "code",
   "execution_count": 11,
   "id": "269c9436",
   "metadata": {},
   "outputs": [
    {
     "data": {
      "text/plain": [
       "__main__.Carro"
      ]
     },
     "execution_count": 11,
     "metadata": {},
     "output_type": "execute_result"
    }
   ],
   "source": [
    "type(carro3)"
   ]
  },
  {
   "cell_type": "code",
   "execution_count": 12,
   "id": "a8a97c2c",
   "metadata": {},
   "outputs": [
    {
     "data": {
      "text/plain": [
       "'Hyundai'"
      ]
     },
     "execution_count": 12,
     "metadata": {},
     "output_type": "execute_result"
    }
   ],
   "source": [
    "carro3.marca"
   ]
  },
  {
   "cell_type": "code",
   "execution_count": 13,
   "id": "e788af6e",
   "metadata": {},
   "outputs": [
    {
     "data": {
      "text/plain": [
       "'Sonata'"
      ]
     },
     "execution_count": 13,
     "metadata": {},
     "output_type": "execute_result"
    }
   ],
   "source": [
    "carro3.modelo"
   ]
  }
 ],
 "metadata": {
  "kernelspec": {
   "display_name": "Python 3 (ipykernel)",
   "language": "python",
   "name": "python3"
  },
  "language_info": {
   "codemirror_mode": {
    "name": "ipython",
    "version": 3
   },
   "file_extension": ".py",
   "mimetype": "text/x-python",
   "name": "python",
   "nbconvert_exporter": "python",
   "pygments_lexer": "ipython3",
   "version": "3.11.5"
  }
 },
 "nbformat": 4,
 "nbformat_minor": 5
}
